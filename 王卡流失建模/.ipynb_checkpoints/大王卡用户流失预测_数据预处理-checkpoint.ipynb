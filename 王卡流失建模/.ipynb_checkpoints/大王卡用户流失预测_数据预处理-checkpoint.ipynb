{
 "cells": [
  {
   "cell_type": "code",
   "execution_count": 1,
   "metadata": {
    "collapsed": true
   },
   "outputs": [],
   "source": [
    "import numpy as np\n",
    "import pandas as pd\n",
    "# -*- coding: utf-8 -*-"
   ]
  },
  {
   "cell_type": "code",
   "execution_count": 8,
   "metadata": {
    "collapsed": false
   },
   "outputs": [
    {
     "data": {
      "text/plain": [
       "Index(['DEAL_DATE', 'USER_ID', 'CUST_ID', 'PRODUCT_ID', 'SERIAL_NUMBER',\n",
       "       'IN_DATE', 'OPEN_DATE', 'REMOVE_TAG', 'DESTROY_TIME',\n",
       "       'USER_STATE_CODESET', 'BALANCE', 'FEE', 'SMS_COUNT', 'FLOW_DATA',\n",
       "       'CALL_DURATION', 'USER_STATE_NAME', 'PSPT_ID', 'USE_DAYS',\n",
       "       'DEPOSIT_TIMES', 'DEVELOP_TYPE', 'START_DATE', 'LAST_DEPOSIT_FEE',\n",
       "       'LAST_DEPOSIT_TIME'],\n",
       "      dtype='object')"
      ]
     },
     "execution_count": 8,
     "metadata": {},
     "output_type": "execute_result"
    }
   ],
   "source": [
    "data = pd.read_csv('./tencent_traindata.csv')\n",
    "data.columns"
   ]
  },
  {
   "cell_type": "code",
   "execution_count": 16,
   "metadata": {
    "collapsed": false
   },
   "outputs": [],
   "source": [
    "data = data[['SERIAL_NUMBER','USER_STATE_CODESET','BALANCE','FEE','SMS_COUNT','FLOW_DATA','CALL_DURATION','PSPT_ID','DEVELOP_TYPE','LAST_DEPOSIT_FEE','LAST_DEPOSIT_TIME']]"
   ]
  },
  {
   "cell_type": "code",
   "execution_count": 44,
   "metadata": {
    "collapsed": false
   },
   "outputs": [
    {
     "data": {
      "text/html": [
       "<div>\n",
       "<table border=\"1\" class=\"dataframe\">\n",
       "  <thead>\n",
       "    <tr style=\"text-align: right;\">\n",
       "      <th></th>\n",
       "      <th>SERIAL_NUMBER</th>\n",
       "      <th>BALANCE</th>\n",
       "      <th>FEE</th>\n",
       "      <th>SMS_COUNT</th>\n",
       "      <th>FLOW_DATA</th>\n",
       "      <th>CALL_DURATION</th>\n",
       "      <th>DEVELOP_TYPE</th>\n",
       "      <th>LAST_DEPOSIT_FEE</th>\n",
       "    </tr>\n",
       "  </thead>\n",
       "  <tbody>\n",
       "    <tr>\n",
       "      <th>count</th>\n",
       "      <td>1.582200e+04</td>\n",
       "      <td>15821.000000</td>\n",
       "      <td>15822.000000</td>\n",
       "      <td>15822.000000</td>\n",
       "      <td>15822.000000</td>\n",
       "      <td>15822.000000</td>\n",
       "      <td>11968.000000</td>\n",
       "      <td>14340.000000</td>\n",
       "    </tr>\n",
       "    <tr>\n",
       "      <th>mean</th>\n",
       "      <td>1.684527e+10</td>\n",
       "      <td>31.546941</td>\n",
       "      <td>23.753322</td>\n",
       "      <td>1.543800</td>\n",
       "      <td>6888.513538</td>\n",
       "      <td>39.511945</td>\n",
       "      <td>1.082971</td>\n",
       "      <td>46.786479</td>\n",
       "    </tr>\n",
       "    <tr>\n",
       "      <th>std</th>\n",
       "      <td>1.933500e+09</td>\n",
       "      <td>97.907147</td>\n",
       "      <td>28.802625</td>\n",
       "      <td>8.722811</td>\n",
       "      <td>12933.441761</td>\n",
       "      <td>108.670336</td>\n",
       "      <td>0.275850</td>\n",
       "      <td>49.167133</td>\n",
       "    </tr>\n",
       "    <tr>\n",
       "      <th>min</th>\n",
       "      <td>1.300569e+10</td>\n",
       "      <td>0.000000</td>\n",
       "      <td>0.000000</td>\n",
       "      <td>0.000000</td>\n",
       "      <td>0.000000</td>\n",
       "      <td>0.000000</td>\n",
       "      <td>1.000000</td>\n",
       "      <td>0.010000</td>\n",
       "    </tr>\n",
       "    <tr>\n",
       "      <th>25%</th>\n",
       "      <td>1.562693e+10</td>\n",
       "      <td>0.000000</td>\n",
       "      <td>0.000000</td>\n",
       "      <td>0.000000</td>\n",
       "      <td>0.000000</td>\n",
       "      <td>0.000000</td>\n",
       "      <td>1.000000</td>\n",
       "      <td>20.000000</td>\n",
       "    </tr>\n",
       "    <tr>\n",
       "      <th>50%</th>\n",
       "      <td>1.766601e+10</td>\n",
       "      <td>11.200000</td>\n",
       "      <td>9.500000</td>\n",
       "      <td>0.000000</td>\n",
       "      <td>0.000000</td>\n",
       "      <td>0.000000</td>\n",
       "      <td>1.000000</td>\n",
       "      <td>30.000000</td>\n",
       "    </tr>\n",
       "    <tr>\n",
       "      <th>75%</th>\n",
       "      <td>1.866614e+10</td>\n",
       "      <td>39.940000</td>\n",
       "      <td>45.400000</td>\n",
       "      <td>0.000000</td>\n",
       "      <td>8714.300000</td>\n",
       "      <td>28.000000</td>\n",
       "      <td>1.000000</td>\n",
       "      <td>50.000000</td>\n",
       "    </tr>\n",
       "    <tr>\n",
       "      <th>max</th>\n",
       "      <td>1.868820e+10</td>\n",
       "      <td>5531.800000</td>\n",
       "      <td>284.300000</td>\n",
       "      <td>394.000000</td>\n",
       "      <td>255473.280000</td>\n",
       "      <td>2630.000000</td>\n",
       "      <td>2.000000</td>\n",
       "      <td>795.840000</td>\n",
       "    </tr>\n",
       "  </tbody>\n",
       "</table>\n",
       "</div>"
      ],
      "text/plain": [
       "       SERIAL_NUMBER       BALANCE           FEE     SMS_COUNT      FLOW_DATA  \\\n",
       "count   1.582200e+04  15821.000000  15822.000000  15822.000000   15822.000000   \n",
       "mean    1.684527e+10     31.546941     23.753322      1.543800    6888.513538   \n",
       "std     1.933500e+09     97.907147     28.802625      8.722811   12933.441761   \n",
       "min     1.300569e+10      0.000000      0.000000      0.000000       0.000000   \n",
       "25%     1.562693e+10      0.000000      0.000000      0.000000       0.000000   \n",
       "50%     1.766601e+10     11.200000      9.500000      0.000000       0.000000   \n",
       "75%     1.866614e+10     39.940000     45.400000      0.000000    8714.300000   \n",
       "max     1.868820e+10   5531.800000    284.300000    394.000000  255473.280000   \n",
       "\n",
       "       CALL_DURATION  DEVELOP_TYPE  LAST_DEPOSIT_FEE  \n",
       "count   15822.000000  11968.000000      14340.000000  \n",
       "mean       39.511945      1.082971         46.786479  \n",
       "std       108.670336      0.275850         49.167133  \n",
       "min         0.000000      1.000000          0.010000  \n",
       "25%         0.000000      1.000000         20.000000  \n",
       "50%         0.000000      1.000000         30.000000  \n",
       "75%        28.000000      1.000000         50.000000  \n",
       "max      2630.000000      2.000000        795.840000  "
      ]
     },
     "execution_count": 44,
     "metadata": {},
     "output_type": "execute_result"
    }
   ],
   "source": [
    "data.describe()"
   ]
  },
  {
   "cell_type": "code",
   "execution_count": 101,
   "metadata": {
    "collapsed": false
   },
   "outputs": [],
   "source": [
    "data.BALANCE = data.BALANCE.fillna(0)"
   ]
  },
  {
   "cell_type": "code",
   "execution_count": 56,
   "metadata": {
    "collapsed": false
   },
   "outputs": [
    {
     "data": {
      "text/plain": [
       "Series([], Name: LAST_DEPOSIT_TIME, dtype: object)"
      ]
     },
     "execution_count": 56,
     "metadata": {},
     "output_type": "execute_result"
    }
   ],
   "source": [
    "data.LAST_DEPOSIT_TIME[data.LAST_DEPOSIT_TIME.isnull()]"
   ]
  },
  {
   "cell_type": "code",
   "execution_count": 57,
   "metadata": {
    "collapsed": false
   },
   "outputs": [
    {
     "data": {
      "text/plain": [
       "array(['0', '9', 'F', '6'], dtype=object)"
      ]
     },
     "execution_count": 57,
     "metadata": {},
     "output_type": "execute_result"
    }
   ],
   "source": [
    "data.USER_STATE_CODESET.unique()"
   ]
  },
  {
   "cell_type": "code",
   "execution_count": 58,
   "metadata": {
    "collapsed": false
   },
   "outputs": [],
   "source": [
    "#设置样本标签\n",
    "def set_type(USER_STATE_CODESET):\n",
    "    if USER_STATE_CODESET == '0':\n",
    "        return 0\n",
    "    else:\n",
    "        return 1"
   ]
  },
  {
   "cell_type": "code",
   "execution_count": 59,
   "metadata": {
    "collapsed": true
   },
   "outputs": [],
   "source": [
    "data['class'] = data.USER_STATE_CODESET.apply(set_type)"
   ]
  },
  {
   "cell_type": "code",
   "execution_count": 64,
   "metadata": {
    "collapsed": true
   },
   "outputs": [],
   "source": [
    "#获取年龄\n",
    "def get_birth(pspt_id):\n",
    "#     birth_day = pspt_id[6:10]+\":\"+pspt_id[10:12]+\":\"+pspt_id[12:14]\n",
    "#     return pspt_id[6:10]+\":\"+pspt_id[10:12]+\":\"+pspt_id[12:14]\n",
    "    return 2018-int(pspt_id[6:10])"
   ]
  },
  {
   "cell_type": "code",
   "execution_count": 65,
   "metadata": {
    "collapsed": true
   },
   "outputs": [],
   "source": [
    "data['age'] = data.PSPT_ID.apply(get_birth)"
   ]
  },
  {
   "cell_type": "code",
   "execution_count": 92,
   "metadata": {
    "collapsed": false
   },
   "outputs": [],
   "source": [
    "#获取充值时间间隔天数\n",
    "from datetime import datetime\n",
    "def get_interval(last_deposit_time):\n",
    "    return (datetime(2018,4,8)-last_deposit_time).days"
   ]
  },
  {
   "cell_type": "code",
   "execution_count": 93,
   "metadata": {
    "collapsed": false
   },
   "outputs": [],
   "source": [
    "data['deposit_interval_day'] = data.LAST_DEPOSIT_TIME.apply(get_interval)"
   ]
  },
  {
   "cell_type": "code",
   "execution_count": 86,
   "metadata": {
    "collapsed": false
   },
   "outputs": [],
   "source": [
    "data.LAST_DEPOSIT_TIME = pd.to_datetime(data.LAST_DEPOSIT_TIME)"
   ]
  },
  {
   "cell_type": "code",
   "execution_count": 87,
   "metadata": {
    "collapsed": false
   },
   "outputs": [
    {
     "data": {
      "text/plain": [
       "SERIAL_NUMBER                  int64\n",
       "USER_STATE_CODESET            object\n",
       "BALANCE                      float64\n",
       "FEE                          float64\n",
       "SMS_COUNT                    float64\n",
       "FLOW_DATA                    float64\n",
       "CALL_DURATION                float64\n",
       "PSPT_ID                       object\n",
       "DEVELOP_TYPE                 float64\n",
       "LAST_DEPOSIT_FEE             float64\n",
       "LAST_DEPOSIT_TIME     datetime64[ns]\n",
       "class                          int64\n",
       "age                            int64\n",
       "dtype: object"
      ]
     },
     "execution_count": 87,
     "metadata": {},
     "output_type": "execute_result"
    }
   ],
   "source": [
    "data.dtypes"
   ]
  },
  {
   "cell_type": "code",
   "execution_count": 94,
   "metadata": {
    "collapsed": false,
    "scrolled": true
   },
   "outputs": [
    {
     "data": {
      "text/html": [
       "<div>\n",
       "<table border=\"1\" class=\"dataframe\">\n",
       "  <thead>\n",
       "    <tr style=\"text-align: right;\">\n",
       "      <th></th>\n",
       "      <th>SERIAL_NUMBER</th>\n",
       "      <th>USER_STATE_CODESET</th>\n",
       "      <th>BALANCE</th>\n",
       "      <th>FEE</th>\n",
       "      <th>SMS_COUNT</th>\n",
       "      <th>FLOW_DATA</th>\n",
       "      <th>CALL_DURATION</th>\n",
       "      <th>PSPT_ID</th>\n",
       "      <th>DEVELOP_TYPE</th>\n",
       "      <th>LAST_DEPOSIT_FEE</th>\n",
       "      <th>LAST_DEPOSIT_TIME</th>\n",
       "      <th>class</th>\n",
       "      <th>age</th>\n",
       "      <th>deposit_interval_day</th>\n",
       "    </tr>\n",
       "  </thead>\n",
       "  <tbody>\n",
       "    <tr>\n",
       "      <th>0</th>\n",
       "      <td>18666919990</td>\n",
       "      <td>0</td>\n",
       "      <td>378.33</td>\n",
       "      <td>56.0</td>\n",
       "      <td>0.0</td>\n",
       "      <td>0.00</td>\n",
       "      <td>0.0</td>\n",
       "      <td>420529198605120035</td>\n",
       "      <td>2.0</td>\n",
       "      <td>300.0</td>\n",
       "      <td>2018-04-01 09:32:00</td>\n",
       "      <td>0</td>\n",
       "      <td>32</td>\n",
       "      <td>6</td>\n",
       "    </tr>\n",
       "    <tr>\n",
       "      <th>1</th>\n",
       "      <td>18666123651</td>\n",
       "      <td>0</td>\n",
       "      <td>11.09</td>\n",
       "      <td>106.0</td>\n",
       "      <td>1.0</td>\n",
       "      <td>6452.11</td>\n",
       "      <td>72.0</td>\n",
       "      <td>421181198702077651</td>\n",
       "      <td>2.0</td>\n",
       "      <td>100.0</td>\n",
       "      <td>2018-04-05 20:18:00</td>\n",
       "      <td>0</td>\n",
       "      <td>31</td>\n",
       "      <td>2</td>\n",
       "    </tr>\n",
       "    <tr>\n",
       "      <th>2</th>\n",
       "      <td>18666985102</td>\n",
       "      <td>0</td>\n",
       "      <td>126.97</td>\n",
       "      <td>41.5</td>\n",
       "      <td>0.0</td>\n",
       "      <td>9803.04</td>\n",
       "      <td>12.0</td>\n",
       "      <td>411122199105068231</td>\n",
       "      <td>2.0</td>\n",
       "      <td>300.0</td>\n",
       "      <td>2018-01-01 14:11:00</td>\n",
       "      <td>0</td>\n",
       "      <td>27</td>\n",
       "      <td>96</td>\n",
       "    </tr>\n",
       "    <tr>\n",
       "      <th>3</th>\n",
       "      <td>18688165487</td>\n",
       "      <td>0</td>\n",
       "      <td>29.98</td>\n",
       "      <td>23.6</td>\n",
       "      <td>0.0</td>\n",
       "      <td>484.19</td>\n",
       "      <td>41.0</td>\n",
       "      <td>360121198602100072</td>\n",
       "      <td>2.0</td>\n",
       "      <td>50.0</td>\n",
       "      <td>2018-01-24 09:45:00</td>\n",
       "      <td>0</td>\n",
       "      <td>32</td>\n",
       "      <td>73</td>\n",
       "    </tr>\n",
       "    <tr>\n",
       "      <th>4</th>\n",
       "      <td>18688152210</td>\n",
       "      <td>0</td>\n",
       "      <td>69.56</td>\n",
       "      <td>60.5</td>\n",
       "      <td>1.0</td>\n",
       "      <td>4070.74</td>\n",
       "      <td>125.0</td>\n",
       "      <td>320322199302096838</td>\n",
       "      <td>2.0</td>\n",
       "      <td>100.0</td>\n",
       "      <td>2018-02-16 20:24:00</td>\n",
       "      <td>0</td>\n",
       "      <td>25</td>\n",
       "      <td>50</td>\n",
       "    </tr>\n",
       "  </tbody>\n",
       "</table>\n",
       "</div>"
      ],
      "text/plain": [
       "   SERIAL_NUMBER USER_STATE_CODESET  BALANCE    FEE  SMS_COUNT  FLOW_DATA  \\\n",
       "0    18666919990                  0   378.33   56.0        0.0       0.00   \n",
       "1    18666123651                  0    11.09  106.0        1.0    6452.11   \n",
       "2    18666985102                  0   126.97   41.5        0.0    9803.04   \n",
       "3    18688165487                  0    29.98   23.6        0.0     484.19   \n",
       "4    18688152210                  0    69.56   60.5        1.0    4070.74   \n",
       "\n",
       "   CALL_DURATION             PSPT_ID  DEVELOP_TYPE  LAST_DEPOSIT_FEE  \\\n",
       "0            0.0  420529198605120035           2.0             300.0   \n",
       "1           72.0  421181198702077651           2.0             100.0   \n",
       "2           12.0  411122199105068231           2.0             300.0   \n",
       "3           41.0  360121198602100072           2.0              50.0   \n",
       "4          125.0  320322199302096838           2.0             100.0   \n",
       "\n",
       "    LAST_DEPOSIT_TIME  class  age  deposit_interval_day  \n",
       "0 2018-04-01 09:32:00      0   32                     6  \n",
       "1 2018-04-05 20:18:00      0   31                     2  \n",
       "2 2018-01-01 14:11:00      0   27                    96  \n",
       "3 2018-01-24 09:45:00      0   32                    73  \n",
       "4 2018-02-16 20:24:00      0   25                    50  "
      ]
     },
     "execution_count": 94,
     "metadata": {},
     "output_type": "execute_result"
    }
   ],
   "source": [
    "data.head()"
   ]
  },
  {
   "cell_type": "code",
   "execution_count": 102,
   "metadata": {
    "collapsed": true
   },
   "outputs": [],
   "source": [
    "data1 = data[['BALANCE','FEE','SMS_COUNT','FLOW_DATA','CALL_DURATION','DEVELOP_TYPE','LAST_DEPOSIT_FEE','age','deposit_interval_day','class']]"
   ]
  },
  {
   "cell_type": "code",
   "execution_count": 105,
   "metadata": {
    "collapsed": false
   },
   "outputs": [],
   "source": [
    "data1.to_csv('./training_data.csv',index=None)"
   ]
  }
 ],
 "metadata": {
  "kernelspec": {
   "display_name": "Python 3",
   "language": "python",
   "name": "python3"
  },
  "language_info": {
   "codemirror_mode": {
    "name": "ipython",
    "version": 3
   },
   "file_extension": ".py",
   "mimetype": "text/x-python",
   "name": "python",
   "nbconvert_exporter": "python",
   "pygments_lexer": "ipython3",
   "version": "3.6.0"
  }
 },
 "nbformat": 4,
 "nbformat_minor": 2
}
