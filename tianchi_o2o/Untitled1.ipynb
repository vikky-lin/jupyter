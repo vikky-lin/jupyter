{
 "cells": [
  {
   "cell_type": "code",
   "execution_count": 1,
   "metadata": {
    "collapsed": true
   },
   "outputs": [],
   "source": [
    "from sklearn import decomposition\n",
    "import numpy as np\n",
    "import pandas as pd"
   ]
  },
  {
   "cell_type": "code",
   "execution_count": 2,
   "metadata": {
    "collapsed": false
   },
   "outputs": [],
   "source": [
    "dataset1 = pd.read_csv('./data/dataset1_v1.csv')\n",
    "dataset1.label.replace(-1,0,inplace=True)\n",
    "dataset2 = pd.read_csv('./data/dataset2_v1.csv')\n",
    "dataset2.label.replace(-1,0,inplace=True)\n",
    "dataset3 = pd.read_csv('./data/off_test_v1.csv')\n",
    "\n",
    "dataset1.drop_duplicates(inplace=True)\n",
    "dataset2.drop_duplicates(inplace=True)\n",
    "dataset3.drop_duplicates(inplace=True)\n",
    "\n",
    "dataset3_preds = dataset3[['user_id','coupon_id','date_received']]\n",
    "dataset3.drop(['coupon_id','date_received'],axis=1,inplace=True)\n",
    "\n",
    "x_train1 = dataset1.iloc[:,:-1].fillna(-1)\n",
    "x_train2 = dataset2.iloc[:,:-1].fillna(-1)\n",
    "x_test = dataset3.fillna(-1)\n",
    "\n",
    "y_train1 = dataset1.iloc[:,-1]\n",
    "y_train2 = dataset2.iloc[:,-1]\n",
    "\n",
    "x_train = pd.concat([x_train1,x_train2])\n",
    "y_train = pd.concat([y_train1,y_train2])"
   ]
  },
  {
   "cell_type": "code",
   "execution_count": 90,
   "metadata": {
    "collapsed": false
   },
   "outputs": [],
   "source": [
    "from sklearn import preprocessing\n",
    "x_train1 = pd.DataFrame(preprocessing.normalize(x_train1,axis=0))\n",
    "# x_train1 = pd.DataFrame(preprocessing.normalize(x_train1,axis=0))"
   ]
  },
  {
   "cell_type": "code",
   "execution_count": 10,
   "metadata": {
    "collapsed": false
   },
   "outputs": [
    {
     "data": {
      "text/plain": [
       "(134416, 55)"
      ]
     },
     "execution_count": 10,
     "metadata": {},
     "output_type": "execute_result"
    }
   ],
   "source": [
    "x_train1.shape"
   ]
  },
  {
   "cell_type": "code",
   "execution_count": 91,
   "metadata": {
    "collapsed": false
   },
   "outputs": [
    {
     "data": {
      "text/plain": [
       "array([  1.87969566e-01,   1.07508324e-01,   7.68718470e-02,\n",
       "         5.41297348e-02,   4.09734060e-02,   3.97204074e-02,\n",
       "         3.84740844e-02,   3.20998616e-02,   2.73828363e-02,\n",
       "         2.65105475e-02,   2.45006946e-02,   2.36160792e-02,\n",
       "         2.22862025e-02,   2.21492005e-02,   2.15138571e-02,\n",
       "         2.06539149e-02,   2.02802155e-02,   1.99812845e-02,\n",
       "         1.84177794e-02,   1.81698242e-02,   1.66336732e-02,\n",
       "         1.51511047e-02,   1.46359762e-02,   1.43621628e-02,\n",
       "         1.29829612e-02,   1.25118275e-02,   1.07780270e-02,\n",
       "         9.16881134e-03,   8.37171343e-03,   5.94449073e-03,\n",
       "         5.64270736e-03,   5.47836757e-03,   4.74828767e-03,\n",
       "         3.77037020e-03,   3.60187669e-03,   2.68461190e-03,\n",
       "         1.96760300e-03,   1.86321840e-03,   1.45948457e-03,\n",
       "         1.21010966e-03,   8.79654682e-04,   6.44859219e-04,\n",
       "         5.43272939e-04,   4.28467242e-04,   4.13048974e-04,\n",
       "         3.67040756e-04,   3.03166243e-04,   1.04733992e-04,\n",
       "         6.01235867e-05,   4.02676026e-05,   3.76873386e-05,\n",
       "         6.25017862e-07,   3.70704605e-32,   4.90107997e-33,\n",
       "         1.81760166e-33])"
      ]
     },
     "execution_count": 91,
     "metadata": {},
     "output_type": "execute_result"
    }
   ],
   "source": [
    "from sklearn.decomposition import PCA\n",
    "pca = PCA()\n",
    "pca_data = pca.fit_transform(x_train1)\n",
    "pca.explained_variance_ratio_"
   ]
  },
  {
   "cell_type": "code",
   "execution_count": 112,
   "metadata": {
    "collapsed": false
   },
   "outputs": [],
   "source": [
    "test_x_transformed = pca.transform(preprocessing.normalize(x_train2,axis=0))[:,:-3]"
   ]
  },
  {
   "cell_type": "code",
   "execution_count": 81,
   "metadata": {
    "collapsed": false
   },
   "outputs": [
    {
     "data": {
      "text/plain": [
       "(252481, 52)"
      ]
     },
     "execution_count": 81,
     "metadata": {},
     "output_type": "execute_result"
    }
   ],
   "source": [
    "test_x_transformed.shape"
   ]
  },
  {
   "cell_type": "code",
   "execution_count": 113,
   "metadata": {
    "collapsed": false,
    "scrolled": true
   },
   "outputs": [
    {
     "data": {
      "text/plain": [
       "LogisticRegression(C=2, class_weight='balanced', dual=False,\n",
       "          fit_intercept=True, intercept_scaling=1, max_iter=100,\n",
       "          multi_class='ovr', n_jobs=1, penalty='l1', random_state=None,\n",
       "          solver='liblinear', tol=0.001, verbose=0, warm_start=False)"
      ]
     },
     "execution_count": 113,
     "metadata": {},
     "output_type": "execute_result"
    }
   ],
   "source": [
    "from sklearn.linear_model import LogisticRegression\n",
    "lr = LogisticRegression(penalty='l1',max_iter=100,tol=0.001,n_jobs=1,C=2,class_weight='balanced')\n",
    "lr.fit(pca_data[:,:-3],y_train1)\n",
    "# dataset3_preds['prob'] = lr.predict_proba(test_x_transformed)[:,1]\n",
    "# dataset3_preds.to_csv('./7月优惠券使用预测.csv',index=None)"
   ]
  },
  {
   "cell_type": "code",
   "execution_count": 111,
   "metadata": {
    "collapsed": false
   },
   "outputs": [
    {
     "name": "stderr",
     "output_type": "stream",
     "text": [
      "d:\\ProgramData\\Anaconda3\\lib\\site-packages\\ipykernel\\__main__.py:1: SettingWithCopyWarning: \n",
      "A value is trying to be set on a copy of a slice from a DataFrame.\n",
      "Try using .loc[row_indexer,col_indexer] = value instead\n",
      "\n",
      "See the caveats in the documentation: http://pandas.pydata.org/pandas-docs/stable/indexing.html#indexing-view-versus-copy\n",
      "  if __name__ == '__main__':\n"
     ]
    }
   ],
   "source": [
    "dataset3_preds['prob'] = lr.predict_proba(test_x_transformed)[:,1]\n",
    "dataset3_preds.to_csv('./7月优惠券使用预测.csv')"
   ]
  },
  {
   "cell_type": "code",
   "execution_count": 123,
   "metadata": {
    "collapsed": false
   },
   "outputs": [
    {
     "data": {
      "text/plain": [
       "0.91044078564327613"
      ]
     },
     "execution_count": 123,
     "metadata": {},
     "output_type": "execute_result"
    }
   ],
   "source": [
    "preds = lr.predict(test_x_transformed)\n",
    "np.mean(preds==y_train2)"
   ]
  }
 ],
 "metadata": {
  "kernelspec": {
   "display_name": "Python 3",
   "language": "python",
   "name": "python3"
  },
  "language_info": {
   "codemirror_mode": {
    "name": "ipython",
    "version": 3
   },
   "file_extension": ".py",
   "mimetype": "text/x-python",
   "name": "python",
   "nbconvert_exporter": "python",
   "pygments_lexer": "ipython3",
   "version": "3.6.0"
  }
 },
 "nbformat": 4,
 "nbformat_minor": 2
}
