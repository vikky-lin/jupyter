{
 "cells": [
  {
   "cell_type": "markdown",
   "metadata": {},
   "source": [
    "# Skip-Gram模型"
   ]
  },
  {
   "cell_type": "markdown",
   "metadata": {},
   "source": [
    "## 导入包"
   ]
  },
  {
   "cell_type": "code",
   "execution_count": 1,
   "metadata": {
    "collapsed": true
   },
   "outputs": [],
   "source": [
    "import time\n",
    "import numpy as np\n",
    "import tensorflow as tf\n",
    "import random\n",
    "from collections import Counter"
   ]
  },
  {
   "cell_type": "markdown",
   "metadata": {},
   "source": [
    "## 加载数据"
   ]
  },
  {
   "cell_type": "code",
   "execution_count": 6,
   "metadata": {},
   "outputs": [],
   "source": [
    "with open(\"data/text8.txt\",encoding=\"utf-8\")as f:\n",
    "          text = f.read()"
   ]
  },
  {
   "cell_type": "markdown",
   "metadata": {},
   "source": [
    "## 数据预处理"
   ]
  },
  {
   "cell_type": "code",
   "execution_count": 30,
   "metadata": {},
   "outputs": [],
   "source": [
    "# 定义函数来完成数据的预处理\n",
    "def preprocess(text,freq = 5):\n",
    "    \"\"\"\n",
    "    对文本进行预处理\n",
    "    \n",
    "    参数\n",
    "    ---\n",
    "    text:文本数据\n",
    "    freq:词频阈值\n",
    "    \"\"\"\n",
    "    #对文本中的符号进行替换\n",
    "    text = text.lower()\n",
    "    text = text.replace(\".\",\" <PERIOD> \")\n",
    "    text = text.replace(\",\",\" <COMMA> \")\n",
    "    text = text.replace('\"',\" <QUOTATION_MARK> \")\n",
    "    text = text.replace(\";\",\" <SEMICOLON> \")\n",
    "    text = text.replace(\"!\",\" <EXCLAMATION_MARK> \")\n",
    "    text = text.replace(\"?\",\" <QUESTION_MARK> \")\n",
    "    text = text.replace(\"(\",\" <LEFT_PAREN> \")\n",
    "    text = text.replace(\")\",\" <RIGHT_PAREN> \")\n",
    "    text = text.replace(\"--\",\" <HYPHENS> \")\n",
    "    text = text.replace(\":\",\" <COLON> \")\n",
    "    words = text.split()\n",
    "    \n",
    "    # 删除低频词，减少噪音影响\n",
    "    word_counts = Counter(words)\n",
    "    trimmed_words = [word for word in words if word_counts[word]>freq]\n",
    "    return trimmed_words"
   ]
  },
  {
   "cell_type": "code",
   "execution_count": 31,
   "metadata": {
    "collapsed": true
   },
   "outputs": [],
   "source": [
    "words = preprocess(text)"
   ]
  },
  {
   "cell_type": "markdown",
   "metadata": {},
   "source": [
    "## 查看筛选后的单词数"
   ]
  },
  {
   "cell_type": "code",
   "execution_count": 34,
   "metadata": {},
   "outputs": [
    {
     "name": "stdout",
     "output_type": "stream",
     "text": [
      "原单词数：16680599\n",
      "筛选后的单词数：63641\n"
     ]
    }
   ],
   "source": [
    "print(\"原单词数：{}\".format(len(words)))\n",
    "print(\"筛选后的单词数：{}\".format(len(set(words))))\n"
   ]
  },
  {
   "cell_type": "markdown",
   "metadata": {},
   "source": [
    "## 构建单词映射表"
   ]
  },
  {
   "cell_type": "code",
   "execution_count": 38,
   "metadata": {
    "collapsed": true
   },
   "outputs": [],
   "source": [
    "# 整形编码\n",
    "vocab = set(words)\n",
    "vocab_to_int = {w:i for i,w in enumerate(vocab)}\n",
    "int_to_vocab = {i:w for i,w in enumerate(vocab)}"
   ]
  },
  {
   "cell_type": "markdown",
   "metadata": {},
   "source": [
    "## 查看单词映射表"
   ]
  },
  {
   "cell_type": "code",
   "execution_count": 42,
   "metadata": {},
   "outputs": [
    {
     "name": "stdout",
     "output_type": "stream",
     "text": [
      "anarchism的整形编码为21175\n",
      "4732表示ov\n"
     ]
    }
   ],
   "source": [
    "print(\"{}的整形编码为{}\".format(\"anarchism\",vocab_to_int[\"anarchism\"]))\n",
    "print(\"{}表示{}\".format(4732,int_to_vocab[4732]))"
   ]
  },
  {
   "cell_type": "markdown",
   "metadata": {},
   "source": [
    "## 对原文进行vocab到int的转换"
   ]
  },
  {
   "cell_type": "code",
   "execution_count": 41,
   "metadata": {},
   "outputs": [
    {
     "name": "stdout",
     "output_type": "stream",
     "text": [
      "原文： ['anarchism', 'originated', 'as', 'a', 'term', 'of', 'abuse', 'first', 'used', 'against', 'early', 'working', 'class', 'radicals', 'including', 'the', 'diggers', 'of', 'the', 'english', 'revolution', 'and', 'the', 'sans', 'culottes', 'of', 'the', 'french', 'revolution', 'whilst']\n",
      "[21175, 54489, 3004, 17834, 60666, 63196, 10739, 61785, 9234, 27854, 60492, 31774, 40864, 18129, 4285, 43796, 4819, 63196, 43796, 17263, 31216, 22113, 43796, 18471, 60213, 63196, 43796, 13904, 31216, 45958]\n"
     ]
    }
   ],
   "source": [
    "print(\"原文：\",words[:30])\n",
    "int_words = [vocab_to_int[word] for word in words]\n",
    "print(int_words[:30])"
   ]
  },
  {
   "attachments": {
    "image.png": {
     "image/png": "[encoded data removed]"
    }
   },
   "cell_type": "markdown",
   "metadata": {},
   "source": [
    "## 采样\n",
    "#### 对停用词进行采样，例如\"the\",\"or\"等停用词，剔除这些单词以后可以加快我们的训练过程，同时减少训练过程中的噪音\n",
    "#### 公式![image.png](attachment:image.png)"
   ]
  },
  {
   "cell_type": "code",
   "execution_count": 45,
   "metadata": {},
   "outputs": [],
   "source": [
    "t = 1e-5 # t值\n",
    "threshold  =0.8 # 剔除概率阈值\n",
    "\n",
    "#统计单词出现频次\n",
    "int_word_counts = Counter(int_words)\n",
    "total_count = len(int_words)\n",
    "#计算单词频率\n",
    "word_freqs = {w:int_word_counts[w]/total_count for w in int_word_counts}\n",
    "#计算被删除的概率\n",
    "prob_drop = {w:1 - np.sqrt(t/word_freqs[w] for w in int_word_counts)}\n",
    "# # 对单词进行采样\n",
    "# train_words = [w for w in int_words if prob_drop[w]<threshold]"
   ]
  }
 ],
 "metadata": {
  "kernelspec": {
   "display_name": "Python 3",
   "language": "python",
   "name": "python3"
  },
  "language_info": {
   "codemirror_mode": {
    "name": "ipython",
    "version": 3
   },
   "file_extension": ".py",
   "mimetype": "text/x-python",
   "name": "python",
   "nbconvert_exporter": "python",
   "pygments_lexer": "ipython3",
   "version": "3.6.3"
  }
 },
 "nbformat": 4,
 "nbformat_minor": 2
}
